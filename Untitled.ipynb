{
 "cells": [
  {
   "cell_type": "code",
   "execution_count": 1,
   "id": "538f1e97-569e-4786-a7bc-0b4c213f5306",
   "metadata": {},
   "outputs": [
    {
     "name": "stdout",
     "output_type": "stream",
     "text": [
      "Max Value: 110\n"
     ]
    },
    {
     "data": {
      "application/vnd.jupyter.widget-view+json": {
       "model_id": "495390cb904f4095bab0ef7e352e8549",
       "version_major": 2,
       "version_minor": 0
      },
      "text/plain": [
       "Map:   0%|          | 0/520 [00:00<?, ? examples/s]"
      ]
     },
     "metadata": {},
     "output_type": "display_data"
    },
    {
     "data": {
      "application/vnd.jupyter.widget-view+json": {
       "model_id": "80bf304f876645b39719840001c60422",
       "version_major": 2,
       "version_minor": 0
      },
      "text/plain": [
       "Map:   0%|          | 0/130 [00:00<?, ? examples/s]"
      ]
     },
     "metadata": {},
     "output_type": "display_data"
    },
    {
     "name": "stderr",
     "output_type": "stream",
     "text": [
      "/home/kit/anthropomatik/yy5819/recycle-smarter/n_venv/lib64/python3.9/site-packages/huggingface_hub/file_download.py:1132: FutureWarning: `resume_download` is deprecated and will be removed in version 1.0.0. Downloads always resume when possible. If you want to force a new download, use `force_download=True`.\n",
      "  warnings.warn(\n",
      "Some weights of ViTModel were not initialized from the model checkpoint at google/vit-base-patch16-224 and are newly initialized: ['vit.pooler.dense.bias', 'vit.pooler.dense.weight']\n",
      "You should probably TRAIN this model on a down-stream task to be able to use it for predictions and inference.\n",
      "WARNING:accelerate.utils.other:Detected kernel version 4.18.0, which is below the recommended minimum of 5.5.0; this can cause the process to hang. It is recommended to upgrade the kernel to the minimum version or higher.\n",
      "ERROR:wandb.jupyter:Failed to detect the name of this notebook, you can set it manually with the WANDB_NOTEBOOK_NAME environment variable to enable code saving.\n",
      "\u001b[34m\u001b[1mwandb\u001b[0m: Currently logged in as: \u001b[33malex-rothmaier\u001b[0m (\u001b[33malexrothmaier\u001b[0m). Use \u001b[1m`wandb login --relogin`\u001b[0m to force relogin\n"
     ]
    },
    {
     "data": {
      "text/html": [
       "wandb version 0.17.5 is available!  To upgrade, please run:\n",
       " $ pip install wandb --upgrade"
      ],
      "text/plain": [
       "<IPython.core.display.HTML object>"
      ]
     },
     "metadata": {},
     "output_type": "display_data"
    },
    {
     "data": {
      "text/html": [
       "Tracking run with wandb version 0.16.6"
      ],
      "text/plain": [
       "<IPython.core.display.HTML object>"
      ]
     },
     "metadata": {},
     "output_type": "display_data"
    },
    {
     "data": {
      "text/html": [
       "Run data is saved locally in <code>/pfs/data5/home/kit/anthropomatik/yy5819/ImageRegression/wandb/run-20240730_093731-yo0zgl76</code>"
      ],
      "text/plain": [
       "<IPython.core.display.HTML object>"
      ]
     },
     "metadata": {},
     "output_type": "display_data"
    },
    {
     "data": {
      "text/html": [
       "Syncing run <strong><a href='https://wandb.ai/alexrothmaier/huggingface/runs/yo0zgl76' target=\"_blank\">worldly-shape-6</a></strong> to <a href='https://wandb.ai/alexrothmaier/huggingface' target=\"_blank\">Weights & Biases</a> (<a href='https://wandb.me/run' target=\"_blank\">docs</a>)<br/>"
      ],
      "text/plain": [
       "<IPython.core.display.HTML object>"
      ]
     },
     "metadata": {},
     "output_type": "display_data"
    },
    {
     "data": {
      "text/html": [
       " View project at <a href='https://wandb.ai/alexrothmaier/huggingface' target=\"_blank\">https://wandb.ai/alexrothmaier/huggingface</a>"
      ],
      "text/plain": [
       "<IPython.core.display.HTML object>"
      ]
     },
     "metadata": {},
     "output_type": "display_data"
    },
    {
     "data": {
      "text/html": [
       " View run at <a href='https://wandb.ai/alexrothmaier/huggingface/runs/yo0zgl76' target=\"_blank\">https://wandb.ai/alexrothmaier/huggingface/runs/yo0zgl76</a>"
      ],
      "text/plain": [
       "<IPython.core.display.HTML object>"
      ]
     },
     "metadata": {},
     "output_type": "display_data"
    },
    {
     "name": "stderr",
     "output_type": "stream",
     "text": [
      "/home/kit/anthropomatik/yy5819/recycle-smarter/n_venv/lib64/python3.9/site-packages/torch/nn/modules/conv.py:456: UserWarning: Plan failed with a cudnnException: CUDNN_BACKEND_EXECUTION_PLAN_DESCRIPTOR: cudnnFinalize Descriptor Failed cudnn_status: CUDNN_STATUS_NOT_SUPPORTED (Triggered internally at ../aten/src/ATen/native/cudnn/Conv_v8.cpp:919.)\n",
      "  return F.conv2d(input, weight, bias, self.stride,\n"
     ]
    },
    {
     "data": {
      "text/html": [
       "\n",
       "    <div>\n",
       "      \n",
       "      <progress value='650' max='650' style='width:300px; height:20px; vertical-align: middle;'></progress>\n",
       "      [650/650 10:12, Epoch 10/10]\n",
       "    </div>\n",
       "    <table border=\"1\" class=\"dataframe\">\n",
       "  <thead>\n",
       " <tr style=\"text-align: left;\">\n",
       "      <th>Epoch</th>\n",
       "      <th>Training Loss</th>\n",
       "      <th>Validation Loss</th>\n",
       "      <th>Mse</th>\n",
       "    </tr>\n",
       "  </thead>\n",
       "  <tbody>\n",
       "    <tr>\n",
       "      <td>1</td>\n",
       "      <td>0.082400</td>\n",
       "      <td>0.027213</td>\n",
       "      <td>0.027213</td>\n",
       "    </tr>\n",
       "    <tr>\n",
       "      <td>2</td>\n",
       "      <td>0.031800</td>\n",
       "      <td>0.016304</td>\n",
       "      <td>0.016304</td>\n",
       "    </tr>\n",
       "    <tr>\n",
       "      <td>3</td>\n",
       "      <td>0.013800</td>\n",
       "      <td>0.018720</td>\n",
       "      <td>0.018720</td>\n",
       "    </tr>\n",
       "    <tr>\n",
       "      <td>4</td>\n",
       "      <td>0.019900</td>\n",
       "      <td>0.023455</td>\n",
       "      <td>0.023455</td>\n",
       "    </tr>\n",
       "    <tr>\n",
       "      <td>5</td>\n",
       "      <td>0.018000</td>\n",
       "      <td>0.024797</td>\n",
       "      <td>0.024797</td>\n",
       "    </tr>\n",
       "    <tr>\n",
       "      <td>6</td>\n",
       "      <td>0.004400</td>\n",
       "      <td>0.013839</td>\n",
       "      <td>0.013839</td>\n",
       "    </tr>\n",
       "    <tr>\n",
       "      <td>7</td>\n",
       "      <td>0.004400</td>\n",
       "      <td>0.015146</td>\n",
       "      <td>0.015146</td>\n",
       "    </tr>\n",
       "    <tr>\n",
       "      <td>8</td>\n",
       "      <td>0.002900</td>\n",
       "      <td>0.015078</td>\n",
       "      <td>0.015078</td>\n",
       "    </tr>\n",
       "    <tr>\n",
       "      <td>9</td>\n",
       "      <td>0.000700</td>\n",
       "      <td>0.014208</td>\n",
       "      <td>0.014208</td>\n",
       "    </tr>\n",
       "    <tr>\n",
       "      <td>10</td>\n",
       "      <td>0.001500</td>\n",
       "      <td>0.014189</td>\n",
       "      <td>0.014189</td>\n",
       "    </tr>\n",
       "  </tbody>\n",
       "</table><p>"
      ],
      "text/plain": [
       "<IPython.core.display.HTML object>"
      ]
     },
     "metadata": {},
     "output_type": "display_data"
    },
    {
     "name": "stderr",
     "output_type": "stream",
     "text": [
      "INFO:ImageRegression:Predictions: [[0.10719623]\n",
      " [0.24524209]\n",
      " [0.22911087]\n",
      " [0.21948063]\n",
      " [0.00583288]]\n",
      "INFO:ImageRegression:Labels: [[0.09090909]\n",
      " [0.27272728]\n",
      " [0.18181819]\n",
      " [0.18181819]\n",
      " [0.18181819]]\n",
      "INFO:ImageRegression:Predictions: [[0.10467997]\n",
      " [0.23324843]\n",
      " [0.1964175 ]\n",
      " [0.15586995]\n",
      " [0.20503393]]\n",
      "INFO:ImageRegression:Labels: [[0.09090909]\n",
      " [0.27272728]\n",
      " [0.18181819]\n",
      " [0.18181819]\n",
      " [0.18181819]]\n",
      "INFO:ImageRegression:Predictions: [[0.14950842]\n",
      " [0.23251401]\n",
      " [0.17481346]\n",
      " [0.24958868]\n",
      " [0.06268766]]\n",
      "INFO:ImageRegression:Labels: [[0.09090909]\n",
      " [0.27272728]\n",
      " [0.18181819]\n",
      " [0.18181819]\n",
      " [0.18181819]]\n",
      "INFO:ImageRegression:Predictions: [[0.03300065]\n",
      " [0.12186445]\n",
      " [0.1224867 ]\n",
      " [0.125364  ]\n",
      " [0.07481259]]\n",
      "INFO:ImageRegression:Labels: [[0.09090909]\n",
      " [0.27272728]\n",
      " [0.18181819]\n",
      " [0.18181819]\n",
      " [0.18181819]]\n",
      "INFO:ImageRegression:Predictions: [[0.22381301]\n",
      " [0.24746247]\n",
      " [0.3379004 ]\n",
      " [0.30904686]\n",
      " [0.09155509]]\n",
      "INFO:ImageRegression:Labels: [[0.09090909]\n",
      " [0.27272728]\n",
      " [0.18181819]\n",
      " [0.18181819]\n",
      " [0.18181819]]\n",
      "INFO:ImageRegression:Predictions: [[0.18663439]\n",
      " [0.20402786]\n",
      " [0.1580595 ]\n",
      " [0.1632991 ]\n",
      " [0.13172099]]\n",
      "INFO:ImageRegression:Labels: [[0.09090909]\n",
      " [0.27272728]\n",
      " [0.18181819]\n",
      " [0.18181819]\n",
      " [0.18181819]]\n",
      "INFO:ImageRegression:Predictions: [[0.23115818]\n",
      " [0.24822713]\n",
      " [0.22174637]\n",
      " [0.20471743]\n",
      " [0.12674366]]\n",
      "INFO:ImageRegression:Labels: [[0.09090909]\n",
      " [0.27272728]\n",
      " [0.18181819]\n",
      " [0.18181819]\n",
      " [0.18181819]]\n",
      "INFO:ImageRegression:Predictions: [[0.17324081]\n",
      " [0.16887549]\n",
      " [0.19012089]\n",
      " [0.17394479]\n",
      " [0.07324986]]\n",
      "INFO:ImageRegression:Labels: [[0.09090909]\n",
      " [0.27272728]\n",
      " [0.18181819]\n",
      " [0.18181819]\n",
      " [0.18181819]]\n",
      "INFO:ImageRegression:Predictions: [[0.18274395]\n",
      " [0.20527098]\n",
      " [0.2022595 ]\n",
      " [0.18056288]\n",
      " [0.10575801]]\n",
      "INFO:ImageRegression:Labels: [[0.09090909]\n",
      " [0.27272728]\n",
      " [0.18181819]\n",
      " [0.18181819]\n",
      " [0.18181819]]\n",
      "INFO:ImageRegression:Predictions: [[0.18952811]\n",
      " [0.20480657]\n",
      " [0.20259972]\n",
      " [0.18564665]\n",
      " [0.10826025]]\n",
      "INFO:ImageRegression:Labels: [[0.09090909]\n",
      " [0.27272728]\n",
      " [0.18181819]\n",
      " [0.18181819]\n",
      " [0.18181819]]\n"
     ]
    },
    {
     "data": {
      "text/html": [
       "\n",
       "    <div>\n",
       "      \n",
       "      <progress value='17' max='17' style='width:300px; height:20px; vertical-align: middle;'></progress>\n",
       "      [17/17 00:08]\n",
       "    </div>\n",
       "    "
      ],
      "text/plain": [
       "<IPython.core.display.HTML object>"
      ]
     },
     "metadata": {},
     "output_type": "display_data"
    },
    {
     "name": "stderr",
     "output_type": "stream",
     "text": [
      "INFO:ImageRegression:Predictions: [[0.18952811]\n",
      " [0.20480657]\n",
      " [0.20259972]\n",
      " [0.18564665]\n",
      " [0.10826025]]\n",
      "INFO:ImageRegression:Labels: [[0.09090909]\n",
      " [0.27272728]\n",
      " [0.18181819]\n",
      " [0.18181819]\n",
      " [0.18181819]]\n"
     ]
    },
    {
     "name": "stdout",
     "output_type": "stream",
     "text": [
      "Evaluation results: {'eval_loss': 0.014188649132847786, 'eval_mse': 0.014188648201525211, 'eval_runtime': 10.0902, 'eval_samples_per_second': 12.884, 'eval_steps_per_second': 1.685, 'epoch': 10.0}\n",
      "Data successfully written to ./human/checkpoint-650/metadata.json\n",
      "Data successfully written to ./human/checkpoint-640/metadata.json\n"
     ]
    }
   ],
   "source": [
    "from ImageRegression import train_model\n",
    "train_model(dataset_id='alexrothmaier/regression-dataset-human-cluster',\n",
    "            value_column_name='ground_truth',\n",
    "            name = \"\",\n",
    "            test_split=0.2,\n",
    "            output_dir='./human',\n",
    "            num_train_epochs=10,\n",
    "            learning_rate=1e-4)"
   ]
  },
  {
   "cell_type": "code",
   "execution_count": 24,
   "id": "7cf2a2df-1e29-49d7-8461-463037fbfce7",
   "metadata": {},
   "outputs": [
    {
     "name": "stdout",
     "output_type": "stream",
     "text": [
      "Max Value: 62.0\n"
     ]
    },
    {
     "data": {
      "application/vnd.jupyter.widget-view+json": {
       "model_id": "a2abe3b5d0194c1587f810f6150926c9",
       "version_major": 2,
       "version_minor": 0
      },
      "text/plain": [
       "Map:   0%|          | 0/520 [00:00<?, ? examples/s]"
      ]
     },
     "metadata": {},
     "output_type": "display_data"
    },
    {
     "data": {
      "application/vnd.jupyter.widget-view+json": {
       "model_id": "31c932b49ad74bc49554d5688b89d43b",
       "version_major": 2,
       "version_minor": 0
      },
      "text/plain": [
       "Map:   0%|          | 0/131 [00:00<?, ? examples/s]"
      ]
     },
     "metadata": {},
     "output_type": "display_data"
    },
    {
     "name": "stderr",
     "output_type": "stream",
     "text": [
      "/home/kit/anthropomatik/yy5819/recycle-smarter/n_venv/lib64/python3.9/site-packages/huggingface_hub/file_download.py:1132: FutureWarning: `resume_download` is deprecated and will be removed in version 1.0.0. Downloads always resume when possible. If you want to force a new download, use `force_download=True`.\n",
      "  warnings.warn(\n",
      "Some weights of ViTModel were not initialized from the model checkpoint at google/vit-base-patch16-224 and are newly initialized: ['vit.pooler.dense.bias', 'vit.pooler.dense.weight']\n",
      "You should probably TRAIN this model on a down-stream task to be able to use it for predictions and inference.\n",
      "WARNING:accelerate.utils.other:Detected kernel version 4.18.0, which is below the recommended minimum of 5.5.0; this can cause the process to hang. It is recommended to upgrade the kernel to the minimum version or higher.\n",
      "ERROR:wandb.jupyter:Failed to detect the name of this notebook, you can set it manually with the WANDB_NOTEBOOK_NAME environment variable to enable code saving.\n",
      "\u001b[34m\u001b[1mwandb\u001b[0m: Currently logged in as: \u001b[33malex-rothmaier\u001b[0m (\u001b[33malexrothmaier\u001b[0m). Use \u001b[1m`wandb login --relogin`\u001b[0m to force relogin\n"
     ]
    },
    {
     "data": {
      "text/html": [
       "wandb version 0.17.5 is available!  To upgrade, please run:\n",
       " $ pip install wandb --upgrade"
      ],
      "text/plain": [
       "<IPython.core.display.HTML object>"
      ]
     },
     "metadata": {},
     "output_type": "display_data"
    },
    {
     "data": {
      "text/html": [
       "Tracking run with wandb version 0.16.6"
      ],
      "text/plain": [
       "<IPython.core.display.HTML object>"
      ]
     },
     "metadata": {},
     "output_type": "display_data"
    },
    {
     "data": {
      "text/html": [
       "Run data is saved locally in <code>/pfs/data5/home/kit/anthropomatik/yy5819/ImageRegression/wandb/run-20240729_151613-ujszbplp</code>"
      ],
      "text/plain": [
       "<IPython.core.display.HTML object>"
      ]
     },
     "metadata": {},
     "output_type": "display_data"
    },
    {
     "data": {
      "text/html": [
       "Syncing run <strong><a href='https://wandb.ai/alexrothmaier/huggingface/runs/ujszbplp' target=\"_blank\">winter-eon-3</a></strong> to <a href='https://wandb.ai/alexrothmaier/huggingface' target=\"_blank\">Weights & Biases</a> (<a href='https://wandb.me/run' target=\"_blank\">docs</a>)<br/>"
      ],
      "text/plain": [
       "<IPython.core.display.HTML object>"
      ]
     },
     "metadata": {},
     "output_type": "display_data"
    },
    {
     "data": {
      "text/html": [
       " View project at <a href='https://wandb.ai/alexrothmaier/huggingface' target=\"_blank\">https://wandb.ai/alexrothmaier/huggingface</a>"
      ],
      "text/plain": [
       "<IPython.core.display.HTML object>"
      ]
     },
     "metadata": {},
     "output_type": "display_data"
    },
    {
     "data": {
      "text/html": [
       " View run at <a href='https://wandb.ai/alexrothmaier/huggingface/runs/ujszbplp' target=\"_blank\">https://wandb.ai/alexrothmaier/huggingface/runs/ujszbplp</a>"
      ],
      "text/plain": [
       "<IPython.core.display.HTML object>"
      ]
     },
     "metadata": {},
     "output_type": "display_data"
    },
    {
     "name": "stderr",
     "output_type": "stream",
     "text": [
      "/home/kit/anthropomatik/yy5819/recycle-smarter/n_venv/lib64/python3.9/site-packages/torch/nn/modules/conv.py:456: UserWarning: Plan failed with a cudnnException: CUDNN_BACKEND_EXECUTION_PLAN_DESCRIPTOR: cudnnFinalize Descriptor Failed cudnn_status: CUDNN_STATUS_NOT_SUPPORTED (Triggered internally at ../aten/src/ATen/native/cudnn/Conv_v8.cpp:919.)\n",
      "  return F.conv2d(input, weight, bias, self.stride,\n"
     ]
    },
    {
     "data": {
      "text/html": [
       "\n",
       "    <div>\n",
       "      \n",
       "      <progress value='650' max='650' style='width:300px; height:20px; vertical-align: middle;'></progress>\n",
       "      [650/650 10:23, Epoch 10/10]\n",
       "    </div>\n",
       "    <table border=\"1\" class=\"dataframe\">\n",
       "  <thead>\n",
       " <tr style=\"text-align: left;\">\n",
       "      <th>Epoch</th>\n",
       "      <th>Training Loss</th>\n",
       "      <th>Validation Loss</th>\n",
       "      <th>Mse</th>\n",
       "    </tr>\n",
       "  </thead>\n",
       "  <tbody>\n",
       "    <tr>\n",
       "      <td>1</td>\n",
       "      <td>0.086300</td>\n",
       "      <td>0.041441</td>\n",
       "      <td>0.041441</td>\n",
       "    </tr>\n",
       "    <tr>\n",
       "      <td>2</td>\n",
       "      <td>0.008300</td>\n",
       "      <td>0.014107</td>\n",
       "      <td>0.014107</td>\n",
       "    </tr>\n",
       "    <tr>\n",
       "      <td>3</td>\n",
       "      <td>0.004200</td>\n",
       "      <td>0.005042</td>\n",
       "      <td>0.005042</td>\n",
       "    </tr>\n",
       "    <tr>\n",
       "      <td>4</td>\n",
       "      <td>0.003800</td>\n",
       "      <td>0.004414</td>\n",
       "      <td>0.004414</td>\n",
       "    </tr>\n",
       "    <tr>\n",
       "      <td>5</td>\n",
       "      <td>0.002000</td>\n",
       "      <td>0.004548</td>\n",
       "      <td>0.004548</td>\n",
       "    </tr>\n",
       "    <tr>\n",
       "      <td>6</td>\n",
       "      <td>0.000800</td>\n",
       "      <td>0.003963</td>\n",
       "      <td>0.003963</td>\n",
       "    </tr>\n",
       "    <tr>\n",
       "      <td>7</td>\n",
       "      <td>0.000300</td>\n",
       "      <td>0.003432</td>\n",
       "      <td>0.003432</td>\n",
       "    </tr>\n",
       "    <tr>\n",
       "      <td>8</td>\n",
       "      <td>0.000200</td>\n",
       "      <td>0.003308</td>\n",
       "      <td>0.003308</td>\n",
       "    </tr>\n",
       "    <tr>\n",
       "      <td>9</td>\n",
       "      <td>0.000100</td>\n",
       "      <td>0.003272</td>\n",
       "      <td>0.003272</td>\n",
       "    </tr>\n",
       "    <tr>\n",
       "      <td>10</td>\n",
       "      <td>0.000100</td>\n",
       "      <td>0.003268</td>\n",
       "      <td>0.003268</td>\n",
       "    </tr>\n",
       "  </tbody>\n",
       "</table><p>"
      ],
      "text/plain": [
       "<IPython.core.display.HTML object>"
      ]
     },
     "metadata": {},
     "output_type": "display_data"
    },
    {
     "name": "stderr",
     "output_type": "stream",
     "text": [
      "INFO:ImageRegression:Predictions: [[0.328832  ]\n",
      " [0.38042572]\n",
      " [0.13556746]\n",
      " [0.36380798]\n",
      " [0.2195544 ]]\n",
      "INFO:ImageRegression:Labels: [[0.516129  ]\n",
      " [0.58064514]\n",
      " [0.22580644]\n",
      " [0.58064514]\n",
      " [0.20967741]]\n",
      "INFO:ImageRegression:Predictions: [[0.45531657]\n",
      " [0.46561888]\n",
      " [0.19616176]\n",
      " [0.48724204]\n",
      " [0.19201311]]\n",
      "INFO:ImageRegression:Labels: [[0.516129  ]\n",
      " [0.58064514]\n",
      " [0.22580644]\n",
      " [0.58064514]\n",
      " [0.20967741]]\n",
      "INFO:ImageRegression:Predictions: [[0.47052267]\n",
      " [0.6000371 ]\n",
      " [0.19666122]\n",
      " [0.56644267]\n",
      " [0.13518415]]\n",
      "INFO:ImageRegression:Labels: [[0.516129  ]\n",
      " [0.58064514]\n",
      " [0.22580644]\n",
      " [0.58064514]\n",
      " [0.20967741]]\n",
      "INFO:ImageRegression:Predictions: [[0.4418462 ]\n",
      " [0.54652876]\n",
      " [0.25395188]\n",
      " [0.54930305]\n",
      " [0.22262245]]\n",
      "INFO:ImageRegression:Labels: [[0.516129  ]\n",
      " [0.58064514]\n",
      " [0.22580644]\n",
      " [0.58064514]\n",
      " [0.20967741]]\n",
      "INFO:ImageRegression:Predictions: [[0.48005807]\n",
      " [0.63606375]\n",
      " [0.31910428]\n",
      " [0.6032036 ]\n",
      " [0.26984054]]\n",
      "INFO:ImageRegression:Labels: [[0.516129  ]\n",
      " [0.58064514]\n",
      " [0.22580644]\n",
      " [0.58064514]\n",
      " [0.20967741]]\n",
      "INFO:ImageRegression:Predictions: [[0.48002055]\n",
      " [0.6336593 ]\n",
      " [0.32094154]\n",
      " [0.58636886]\n",
      " [0.24844514]]\n",
      "INFO:ImageRegression:Labels: [[0.516129  ]\n",
      " [0.58064514]\n",
      " [0.22580644]\n",
      " [0.58064514]\n",
      " [0.20967741]]\n",
      "INFO:ImageRegression:Predictions: [[0.4566445 ]\n",
      " [0.59324354]\n",
      " [0.2830712 ]\n",
      " [0.5731099 ]\n",
      " [0.23770127]]\n",
      "INFO:ImageRegression:Labels: [[0.516129  ]\n",
      " [0.58064514]\n",
      " [0.22580644]\n",
      " [0.58064514]\n",
      " [0.20967741]]\n",
      "INFO:ImageRegression:Predictions: [[0.4630365]\n",
      " [0.6032499]\n",
      " [0.2796732]\n",
      " [0.5684992]\n",
      " [0.2380687]]\n",
      "INFO:ImageRegression:Labels: [[0.516129  ]\n",
      " [0.58064514]\n",
      " [0.22580644]\n",
      " [0.58064514]\n",
      " [0.20967741]]\n",
      "INFO:ImageRegression:Predictions: [[0.4587997 ]\n",
      " [0.5994973 ]\n",
      " [0.27221987]\n",
      " [0.5678337 ]\n",
      " [0.22894147]]\n",
      "INFO:ImageRegression:Labels: [[0.516129  ]\n",
      " [0.58064514]\n",
      " [0.22580644]\n",
      " [0.58064514]\n",
      " [0.20967741]]\n",
      "INFO:ImageRegression:Predictions: [[0.45846838]\n",
      " [0.5993314 ]\n",
      " [0.27126753]\n",
      " [0.56949025]\n",
      " [0.22797056]]\n",
      "INFO:ImageRegression:Labels: [[0.516129  ]\n",
      " [0.58064514]\n",
      " [0.22580644]\n",
      " [0.58064514]\n",
      " [0.20967741]]\n"
     ]
    },
    {
     "data": {
      "text/html": [
       "\n",
       "    <div>\n",
       "      \n",
       "      <progress value='17' max='17' style='width:300px; height:20px; vertical-align: middle;'></progress>\n",
       "      [17/17 00:08]\n",
       "    </div>\n",
       "    "
      ],
      "text/plain": [
       "<IPython.core.display.HTML object>"
      ]
     },
     "metadata": {},
     "output_type": "display_data"
    },
    {
     "name": "stderr",
     "output_type": "stream",
     "text": [
      "INFO:ImageRegression:Predictions: [[0.45846838]\n",
      " [0.5993314 ]\n",
      " [0.27126753]\n",
      " [0.56949025]\n",
      " [0.22797056]]\n",
      "INFO:ImageRegression:Labels: [[0.516129  ]\n",
      " [0.58064514]\n",
      " [0.22580644]\n",
      " [0.58064514]\n",
      " [0.20967741]]\n"
     ]
    },
    {
     "name": "stdout",
     "output_type": "stream",
     "text": [
      "Evaluation results: {'eval_loss': 0.0032679615542292595, 'eval_mse': 0.0032679615542292595, 'eval_runtime': 9.8132, 'eval_samples_per_second': 13.349, 'eval_steps_per_second': 1.732, 'epoch': 10.0}\n",
      "Data successfully written to ./results/checkpoint-650/metadata.json\n",
      "Data successfully written to ./results/checkpoint-640/metadata.json\n"
     ]
    }
   ],
   "source": [
    "from ImageRegression import train_model\n",
    "train_model(dataset_id='alexrothmaier/regression-dataset-baseline-cluster',\n",
    "            value_column_name='ground_truth',\n",
    "            name = \"\",\n",
    "            test_split=0.2,\n",
    "            output_dir='./results',\n",
    "            num_train_epochs=10,\n",
    "            learning_rate=1e-4)"
   ]
  },
  {
   "cell_type": "code",
   "execution_count": 1,
   "id": "0064b43d-5f8f-4374-9699-9405efdba7e9",
   "metadata": {},
   "outputs": [
    {
     "name": "stdout",
     "output_type": "stream",
     "text": [
      "Max Value: 62.0\n"
     ]
    },
    {
     "data": {
      "application/vnd.jupyter.widget-view+json": {
       "model_id": "1d8862e5363c48308f9651476e85489f",
       "version_major": 2,
       "version_minor": 0
      },
      "text/plain": [
       "Map:   0%|          | 0/520 [00:00<?, ? examples/s]"
      ]
     },
     "metadata": {},
     "output_type": "display_data"
    },
    {
     "data": {
      "application/vnd.jupyter.widget-view+json": {
       "model_id": "31ed152412ca44c59c5796e483007b2c",
       "version_major": 2,
       "version_minor": 0
      },
      "text/plain": [
       "Map:   0%|          | 0/131 [00:00<?, ? examples/s]"
      ]
     },
     "metadata": {},
     "output_type": "display_data"
    },
    {
     "name": "stderr",
     "output_type": "stream",
     "text": [
      "/home/kit/anthropomatik/yy5819/recycle-smarter/n_venv/lib64/python3.9/site-packages/huggingface_hub/file_download.py:1132: FutureWarning: `resume_download` is deprecated and will be removed in version 1.0.0. Downloads always resume when possible. If you want to force a new download, use `force_download=True`.\n",
      "  warnings.warn(\n",
      "Some weights of ViTModel were not initialized from the model checkpoint at google/vit-base-patch16-224 and are newly initialized: ['vit.pooler.dense.bias', 'vit.pooler.dense.weight']\n",
      "You should probably TRAIN this model on a down-stream task to be able to use it for predictions and inference.\n",
      "WARNING:accelerate.utils.other:Detected kernel version 4.18.0, which is below the recommended minimum of 5.5.0; this can cause the process to hang. It is recommended to upgrade the kernel to the minimum version or higher.\n",
      "ERROR:wandb.jupyter:Failed to detect the name of this notebook, you can set it manually with the WANDB_NOTEBOOK_NAME environment variable to enable code saving.\n",
      "\u001b[34m\u001b[1mwandb\u001b[0m: Currently logged in as: \u001b[33malex-rothmaier\u001b[0m (\u001b[33malexrothmaier\u001b[0m). Use \u001b[1m`wandb login --relogin`\u001b[0m to force relogin\n"
     ]
    },
    {
     "data": {
      "text/html": [
       "wandb version 0.17.5 is available!  To upgrade, please run:\n",
       " $ pip install wandb --upgrade"
      ],
      "text/plain": [
       "<IPython.core.display.HTML object>"
      ]
     },
     "metadata": {},
     "output_type": "display_data"
    },
    {
     "data": {
      "text/html": [
       "Tracking run with wandb version 0.16.6"
      ],
      "text/plain": [
       "<IPython.core.display.HTML object>"
      ]
     },
     "metadata": {},
     "output_type": "display_data"
    },
    {
     "data": {
      "text/html": [
       "Run data is saved locally in <code>/pfs/data5/home/kit/anthropomatik/yy5819/ImageRegression/wandb/run-20240729_154323-27y7z6qr</code>"
      ],
      "text/plain": [
       "<IPython.core.display.HTML object>"
      ]
     },
     "metadata": {},
     "output_type": "display_data"
    },
    {
     "data": {
      "text/html": [
       "Syncing run <strong><a href='https://wandb.ai/alexrothmaier/huggingface/runs/27y7z6qr' target=\"_blank\">elated-waterfall-4</a></strong> to <a href='https://wandb.ai/alexrothmaier/huggingface' target=\"_blank\">Weights & Biases</a> (<a href='https://wandb.me/run' target=\"_blank\">docs</a>)<br/>"
      ],
      "text/plain": [
       "<IPython.core.display.HTML object>"
      ]
     },
     "metadata": {},
     "output_type": "display_data"
    },
    {
     "data": {
      "text/html": [
       " View project at <a href='https://wandb.ai/alexrothmaier/huggingface' target=\"_blank\">https://wandb.ai/alexrothmaier/huggingface</a>"
      ],
      "text/plain": [
       "<IPython.core.display.HTML object>"
      ]
     },
     "metadata": {},
     "output_type": "display_data"
    },
    {
     "data": {
      "text/html": [
       " View run at <a href='https://wandb.ai/alexrothmaier/huggingface/runs/27y7z6qr' target=\"_blank\">https://wandb.ai/alexrothmaier/huggingface/runs/27y7z6qr</a>"
      ],
      "text/plain": [
       "<IPython.core.display.HTML object>"
      ]
     },
     "metadata": {},
     "output_type": "display_data"
    },
    {
     "name": "stderr",
     "output_type": "stream",
     "text": [
      "/home/kit/anthropomatik/yy5819/recycle-smarter/n_venv/lib64/python3.9/site-packages/torch/nn/modules/conv.py:456: UserWarning: Plan failed with a cudnnException: CUDNN_BACKEND_EXECUTION_PLAN_DESCRIPTOR: cudnnFinalize Descriptor Failed cudnn_status: CUDNN_STATUS_NOT_SUPPORTED (Triggered internally at ../aten/src/ATen/native/cudnn/Conv_v8.cpp:919.)\n",
      "  return F.conv2d(input, weight, bias, self.stride,\n"
     ]
    },
    {
     "data": {
      "text/html": [
       "\n",
       "    <div>\n",
       "      \n",
       "      <progress value='650' max='650' style='width:300px; height:20px; vertical-align: middle;'></progress>\n",
       "      [650/650 10:52, Epoch 10/10]\n",
       "    </div>\n",
       "    <table border=\"1\" class=\"dataframe\">\n",
       "  <thead>\n",
       " <tr style=\"text-align: left;\">\n",
       "      <th>Epoch</th>\n",
       "      <th>Training Loss</th>\n",
       "      <th>Validation Loss</th>\n",
       "      <th>Mse</th>\n",
       "    </tr>\n",
       "  </thead>\n",
       "  <tbody>\n",
       "    <tr>\n",
       "      <td>1</td>\n",
       "      <td>0.020400</td>\n",
       "      <td>0.011508</td>\n",
       "      <td>0.011508</td>\n",
       "    </tr>\n",
       "    <tr>\n",
       "      <td>2</td>\n",
       "      <td>0.006600</td>\n",
       "      <td>0.016853</td>\n",
       "      <td>0.016853</td>\n",
       "    </tr>\n",
       "    <tr>\n",
       "      <td>3</td>\n",
       "      <td>0.002300</td>\n",
       "      <td>0.003331</td>\n",
       "      <td>0.003331</td>\n",
       "    </tr>\n",
       "    <tr>\n",
       "      <td>4</td>\n",
       "      <td>0.002700</td>\n",
       "      <td>0.002467</td>\n",
       "      <td>0.002467</td>\n",
       "    </tr>\n",
       "    <tr>\n",
       "      <td>5</td>\n",
       "      <td>0.001100</td>\n",
       "      <td>0.002027</td>\n",
       "      <td>0.002027</td>\n",
       "    </tr>\n",
       "    <tr>\n",
       "      <td>6</td>\n",
       "      <td>0.001100</td>\n",
       "      <td>0.002423</td>\n",
       "      <td>0.002423</td>\n",
       "    </tr>\n",
       "    <tr>\n",
       "      <td>7</td>\n",
       "      <td>0.000700</td>\n",
       "      <td>0.001774</td>\n",
       "      <td>0.001774</td>\n",
       "    </tr>\n",
       "    <tr>\n",
       "      <td>8</td>\n",
       "      <td>0.000200</td>\n",
       "      <td>0.001425</td>\n",
       "      <td>0.001425</td>\n",
       "    </tr>\n",
       "    <tr>\n",
       "      <td>9</td>\n",
       "      <td>0.000100</td>\n",
       "      <td>0.001306</td>\n",
       "      <td>0.001306</td>\n",
       "    </tr>\n",
       "    <tr>\n",
       "      <td>10</td>\n",
       "      <td>0.000100</td>\n",
       "      <td>0.001301</td>\n",
       "      <td>0.001301</td>\n",
       "    </tr>\n",
       "  </tbody>\n",
       "</table><p>"
      ],
      "text/plain": [
       "<IPython.core.display.HTML object>"
      ]
     },
     "metadata": {},
     "output_type": "display_data"
    },
    {
     "name": "stderr",
     "output_type": "stream",
     "text": [
      "INFO:ImageRegression:Predictions: [[0.24121743]\n",
      " [0.29629377]\n",
      " [0.58372223]\n",
      " [0.6013703 ]\n",
      " [0.71069956]]\n",
      "INFO:ImageRegression:Labels: [[0.27419356]\n",
      " [0.20967741]\n",
      " [0.5       ]\n",
      " [0.48387095]\n",
      " [0.5483871 ]]\n",
      "INFO:ImageRegression:Predictions: [[0.29865643]\n",
      " [0.25773543]\n",
      " [0.68554854]\n",
      " [0.6814125 ]\n",
      " [0.70030653]]\n",
      "INFO:ImageRegression:Labels: [[0.27419356]\n",
      " [0.20967741]\n",
      " [0.5       ]\n",
      " [0.48387095]\n",
      " [0.5483871 ]]\n",
      "INFO:ImageRegression:Predictions: [[0.20306872]\n",
      " [0.2429097 ]\n",
      " [0.5740703 ]\n",
      " [0.5126287 ]\n",
      " [0.55387414]]\n",
      "INFO:ImageRegression:Labels: [[0.27419356]\n",
      " [0.20967741]\n",
      " [0.5       ]\n",
      " [0.48387095]\n",
      " [0.5483871 ]]\n",
      "INFO:ImageRegression:Predictions: [[0.30486527]\n",
      " [0.22259256]\n",
      " [0.5802256 ]\n",
      " [0.5774697 ]\n",
      " [0.6127329 ]]\n",
      "INFO:ImageRegression:Labels: [[0.27419356]\n",
      " [0.20967741]\n",
      " [0.5       ]\n",
      " [0.48387095]\n",
      " [0.5483871 ]]\n",
      "INFO:ImageRegression:Predictions: [[0.27552617]\n",
      " [0.2355012 ]\n",
      " [0.54837275]\n",
      " [0.5596067 ]\n",
      " [0.5924106 ]]\n",
      "INFO:ImageRegression:Labels: [[0.27419356]\n",
      " [0.20967741]\n",
      " [0.5       ]\n",
      " [0.48387095]\n",
      " [0.5483871 ]]\n",
      "INFO:ImageRegression:Predictions: [[0.20442623]\n",
      " [0.19430895]\n",
      " [0.50691974]\n",
      " [0.50482076]\n",
      " [0.51579916]]\n",
      "INFO:ImageRegression:Labels: [[0.27419356]\n",
      " [0.20967741]\n",
      " [0.5       ]\n",
      " [0.48387095]\n",
      " [0.5483871 ]]\n",
      "INFO:ImageRegression:Predictions: [[0.24423902]\n",
      " [0.22016285]\n",
      " [0.5605204 ]\n",
      " [0.5491563 ]\n",
      " [0.5597031 ]]\n",
      "INFO:ImageRegression:Labels: [[0.27419356]\n",
      " [0.20967741]\n",
      " [0.5       ]\n",
      " [0.48387095]\n",
      " [0.5483871 ]]\n",
      "INFO:ImageRegression:Predictions: [[0.24541254]\n",
      " [0.21304743]\n",
      " [0.5267941 ]\n",
      " [0.52089757]\n",
      " [0.54448336]]\n",
      "INFO:ImageRegression:Labels: [[0.27419356]\n",
      " [0.20967741]\n",
      " [0.5       ]\n",
      " [0.48387095]\n",
      " [0.5483871 ]]\n",
      "INFO:ImageRegression:Predictions: [[0.24202482]\n",
      " [0.21407379]\n",
      " [0.5364673 ]\n",
      " [0.52975327]\n",
      " [0.5507866 ]]\n",
      "INFO:ImageRegression:Labels: [[0.27419356]\n",
      " [0.20967741]\n",
      " [0.5       ]\n",
      " [0.48387095]\n",
      " [0.5483871 ]]\n",
      "INFO:ImageRegression:Predictions: [[0.24666435]\n",
      " [0.21827638]\n",
      " [0.53622454]\n",
      " [0.5325738 ]\n",
      " [0.55311847]]\n",
      "INFO:ImageRegression:Labels: [[0.27419356]\n",
      " [0.20967741]\n",
      " [0.5       ]\n",
      " [0.48387095]\n",
      " [0.5483871 ]]\n"
     ]
    },
    {
     "data": {
      "text/html": [
       "\n",
       "    <div>\n",
       "      \n",
       "      <progress value='17' max='17' style='width:300px; height:20px; vertical-align: middle;'></progress>\n",
       "      [17/17 00:09]\n",
       "    </div>\n",
       "    "
      ],
      "text/plain": [
       "<IPython.core.display.HTML object>"
      ]
     },
     "metadata": {},
     "output_type": "display_data"
    },
    {
     "name": "stderr",
     "output_type": "stream",
     "text": [
      "INFO:ImageRegression:Predictions: [[0.24666435]\n",
      " [0.21827638]\n",
      " [0.53622454]\n",
      " [0.5325738 ]\n",
      " [0.55311847]]\n",
      "INFO:ImageRegression:Labels: [[0.27419356]\n",
      " [0.20967741]\n",
      " [0.5       ]\n",
      " [0.48387095]\n",
      " [0.5483871 ]]\n"
     ]
    },
    {
     "name": "stdout",
     "output_type": "stream",
     "text": [
      "Evaluation results: {'eval_loss': 0.0013011883711442351, 'eval_mse': 0.001301188487559557, 'eval_runtime': 10.4971, 'eval_samples_per_second': 12.48, 'eval_steps_per_second': 1.619, 'epoch': 10.0}\n",
      "Data successfully written to ./results/ml/checkpoint-650/metadata.json\n",
      "Data successfully written to ./results/ml/checkpoint-640/metadata.json\n"
     ]
    }
   ],
   "source": [
    "from ImageRegression import train_model\n",
    "train_model(dataset_id='alexrothmaier/regression-dataset-ml-cluster',\n",
    "            value_column_name='ground_truth',\n",
    "            name = \"\",\n",
    "            test_split=0.2,\n",
    "            output_dir='./results/ml',\n",
    "            num_train_epochs=10,\n",
    "            learning_rate=1e-4)"
   ]
  },
  {
   "cell_type": "code",
   "execution_count": null,
   "id": "9f1dac95-368a-4b10-8b7d-09c598f4ecad",
   "metadata": {},
   "outputs": [],
   "source": []
  }
 ],
 "metadata": {
  "kernelspec": {
   "display_name": "n_env",
   "language": "python",
   "name": "n_env"
  },
  "language_info": {
   "codemirror_mode": {
    "name": "ipython",
    "version": 3
   },
   "file_extension": ".py",
   "mimetype": "text/x-python",
   "name": "python",
   "nbconvert_exporter": "python",
   "pygments_lexer": "ipython3",
   "version": "3.9.16"
  }
 },
 "nbformat": 4,
 "nbformat_minor": 5
}
